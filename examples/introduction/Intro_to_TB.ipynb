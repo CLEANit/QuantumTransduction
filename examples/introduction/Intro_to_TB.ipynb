{
 "cells": [
  {
   "cell_type": "code",
   "execution_count": 1,
   "metadata": {},
   "outputs": [],
   "source": [
    "import numpy as np\n",
    "from scipy.linalg import eig"
   ]
  },
  {
   "cell_type": "code",
   "execution_count": 11,
   "metadata": {},
   "outputs": [
    {
     "name": "stdout",
     "output_type": "stream",
     "text": [
      "[[ 0.  0.  0.  0.  0.  1.  0.  0.  0.  0.]\n",
      " [ 0.  0.  0.  0.  0.  0.  1.  0.  0.  0.]\n",
      " [ 0.  0.  0.  0.  0.  0.  0.  1.  0.  0.]\n",
      " [ 0.  0.  0.  0.  0.  0.  0.  0.  1.  0.]\n",
      " [ 0.  0.  0.  0.  0.  0.  0.  0.  0.  1.]\n",
      " [-1.  0.  0.  0.  0.  0. -1.  0.  0.  0.]\n",
      " [ 0. -1.  0.  0.  0. -1.  0. -1.  0.  0.]\n",
      " [ 0.  0. -1.  0.  0.  0. -1.  0. -1.  0.]\n",
      " [ 0.  0.  0. -1.  0.  0.  0. -1.  0. -1.]\n",
      " [ 0.  0.  0.  0. -1.  0.  0.  0. -1.  0.]]\n",
      "[[ 1.  0.  0.  0.  0.  0.  0.  0.  0.  0.]\n",
      " [ 0.  1.  0.  0.  0.  0.  0.  0.  0.  0.]\n",
      " [ 0.  0.  1.  0.  0.  0.  0.  0.  0.  0.]\n",
      " [ 0.  0.  0.  1.  0.  0.  0.  0.  0.  0.]\n",
      " [ 0.  0.  0.  0.  1.  0.  0.  0.  0.  0.]\n",
      " [ 0.  0.  0.  0.  0. -1.  0.  0.  0.  0.]\n",
      " [ 0.  0.  0.  0.  0.  0. -1.  0.  0.  0.]\n",
      " [ 0.  0.  0.  0.  0.  0.  0. -1.  0.  0.]\n",
      " [ 0.  0.  0.  0.  0.  0.  0.  0. -1.  0.]\n",
      " [ 0.  0.  0.  0.  0.  0.  0.  0.  0. -1.]]\n"
     ]
    }
   ],
   "source": [
    "# define the parameters for the system\n",
    "\n",
    "E = 0.0\n",
    "t = -1.0\n",
    "v = 0.0\n",
    "N = 5\n",
    "M = 2\n",
    "\n",
    "# set up the lead matrix  \n",
    "H = np.diag(v * np.ones(N) - E) + np.diag(t * np.ones(N - 1), k=1) + np.diag(t * np.ones(N - 1), k = -1)\n",
    "I = np.diag(np.ones(N))\n",
    "V = np.diag(t * np.ones(N))\n",
    "Null = np.zeros((N, N))\n",
    "A = np.stack((np.stack((Null, I), axis=1), np.stack((V, H), axis=1))).reshape(2*N, 2*N)\n",
    "B = np.stack((np.stack((I, Null), axis=1), np.stack((Null, V), axis=1))).reshape(2*N, 2*N)\n",
    "print(A)\n",
    "print(B)"
   ]
  },
  {
   "cell_type": "code",
   "execution_count": 12,
   "metadata": {},
   "outputs": [
    {
     "name": "stdout",
     "output_type": "stream",
     "text": [
      "[-2.18890106+0.j  2.18890106+0.j -1.61803399+0.j  1.61803399+0.j\n",
      " -1.        +0.j -0.61803399+0.j -0.45685025+0.j  1.        +0.j\n",
      "  0.61803399+0.j  0.45685025+0.j]\n"
     ]
    }
   ],
   "source": [
    "# diagonalize the lead matrix\n",
    "w, v = eig(A, B)\n",
    "print(w)"
   ]
  },
  {
   "cell_type": "code",
   "execution_count": 13,
   "metadata": {},
   "outputs": [
    {
     "name": "stdout",
     "output_type": "stream",
     "text": [
      "(-2.188901059316734+0j)\n",
      "(2.1889010593167364+0j)\n",
      "(-1.6180339887498965+0j)\n",
      "(1.6180339887498967+0j)\n",
      "(-1.000000000000002+0j)\n",
      "(-0.6180339887498959+0j)\n",
      "(-0.4568502517478575+0j)\n",
      "(1.0000000000000009+0j)\n",
      "(0.6180339887498956+0j)\n",
      "(0.4568502517478571+0j)\n",
      "{'evan_R': [array([0.4253254, 0.4253254]), array([-0.26257171, -0.45478754])], 'evan_L': [array([-0.4253254,  0.4253254]), array([ 0.26257171, -0.45478754])], 'prop_R': [array([-0.11995595,  0.2077698 ]), array([-0.11995595, -0.2077698 ]), array([ 0.26286556, -0.26286556]), array([-0.26286556, -0.26286556]), array([ 4.08248290e-01, -3.15748051e-17]), array([-4.08248290e-01,  6.37217707e-16])], 'prop_L': []}\n"
     ]
    }
   ],
   "source": [
    "# order the modes based on propagating, left/right moving\n",
    "modes = [vec[:2] for vec in v.T]\n",
    "self_energy_left = 0.\n",
    "self_energy_right = 0.\n",
    "V_L = np.array([[t, 0.], [0., t]])\n",
    "V_R = np.array([[t, 0.], [0., t]])\n",
    "\n",
    "org_modes = {'evan_R': [], 'evan_L': [], 'prop_R': [], 'prop_L': []}\n",
    "for e, m in zip(w, modes):\n",
    "    print(e)\n",
    "    total = 0.\n",
    "    for i in range(1,N//2):\n",
    "        total += m[i].conjugate() * -t * m[i-1]\n",
    "    if np.absolute(e) < 1:\n",
    "        if total < 0:\n",
    "            org_modes['evan_L'].append(m)\n",
    "        else:\n",
    "            org_modes['evan_R'].append(m)\n",
    "    else:\n",
    "        if total < 1:\n",
    "            org_modes['prop_R'].append(m)\n",
    "        else:\n",
    "            org_modes['prop_L'].append(m)\n",
    "\n",
    "print(org_modes)\n",
    "for i, m in enumerate(modes):\n",
    "    self_energy_left += w[i]**(-1) * np.outer(m, m.conjugate())\n",
    "    self_energy_right += w[i] * np.outer(m, m.conjugate())\n",
    "self_energy_left *= V_L\n",
    "self_energy_right *= V_R"
   ]
  },
  {
   "cell_type": "code",
   "execution_count": null,
   "metadata": {},
   "outputs": [],
   "source": [
    "rows = [None] * M\n",
    "\n",
    "for i in range(M):\n",
    "    if i == 0:\n",
    "        rows[i] = H + self_energy_left\n",
    "    elif i == 1:\n",
    "        rows[i] = V\n",
    "    else:\n",
    "        rows[i] = Null\n",
    "    \n",
    "for i in range(M):\n",
    "    for j in range(1,M):\n",
    "        if i == j:\n",
    "            if j == M - 1:\n",
    "                rows[i] = np.stack((rows[i], H + self_energy_right), axis=1).reshape((j + 1)*N, N)\n",
    "            else:\n",
    "                rows[i] = np.stack((rows[i], H), axis=1).reshape((j + 1)*N, N)\n",
    "        if i == j - 1 or i == j + 1:\n",
    "            rows[i] = np.stack((rows[i], V), axis=1).reshape((j + 1)*N, N)\n",
    "\n",
    "total_H = np.stack((rows[0], rows[1])).reshape(N*M ,N*M)\n",
    "psi = np.linalg.solve(total_H, np.ones(2 * N))\n",
    "print(psi)"
   ]
  },
  {
   "cell_type": "code",
   "execution_count": null,
   "metadata": {},
   "outputs": [],
   "source": []
  }
 ],
 "metadata": {
  "kernelspec": {
   "display_name": "Python 3",
   "language": "python",
   "name": "python3"
  },
  "language_info": {
   "codemirror_mode": {
    "name": "ipython",
    "version": 3
   },
   "file_extension": ".py",
   "mimetype": "text/x-python",
   "name": "python",
   "nbconvert_exporter": "python",
   "pygments_lexer": "ipython3",
   "version": "3.6.3"
  }
 },
 "nbformat": 4,
 "nbformat_minor": 2
}
