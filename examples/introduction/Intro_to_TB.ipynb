{
 "cells": [
  {
   "cell_type": "code",
   "execution_count": 65,
   "metadata": {},
   "outputs": [],
   "source": [
    "import numpy as np\n",
    "from scipy.linalg import eig\n",
    "import matplotlib.pyplot as plt\n",
    "%matplotlib inline"
   ]
  },
  {
   "cell_type": "code",
   "execution_count": 70,
   "metadata": {},
   "outputs": [],
   "source": [
    "# define the parameters for the system\n",
    "\n",
    "E = 0.0\n",
    "t = -1.0\n",
    "v = 0.0\n",
    "N = 10\n",
    "M = 2\n",
    "\n",
    "# set up the lead matrix  \n",
    "H = np.diag(v * np.ones(N) - E) + np.diag(t * np.ones(N - 1), k=1) + np.diag(t * np.ones(N - 1), k = -1)\n",
    "I = np.diag(np.ones(N))\n",
    "V = np.diag(t * np.ones(N))\n",
    "Null = np.zeros((N, N))\n",
    "A = np.stack((np.stack((Null, I), axis=1), np.stack((V, H), axis=1))).reshape(2*N, 2*N)\n",
    "B = np.stack((np.stack((-I, Null), axis=1), np.stack((Null, V), axis=1))).reshape(2*N, 2*N)"
   ]
  },
  {
   "cell_type": "code",
   "execution_count": 75,
   "metadata": {},
   "outputs": [],
   "source": [
    "# diagonalize the lead matrix\n",
    "w, v = eig(A, B)"
   ]
  },
  {
   "cell_type": "code",
   "execution_count": 106,
   "metadata": {},
   "outputs": [
    {
     "name": "stdout",
     "output_type": "stream",
     "text": [
      "(0.4936139298660329-0.07965731756851402j)\n"
     ]
    },
    {
     "name": "stderr",
     "output_type": "stream",
     "text": [
      "/Users/b295319/anaconda3/lib/python3.6/site-packages/ipykernel_launcher.py:12: FutureWarning: `rcond` parameter will change to the default of machine precision times ``max(M, N)`` where M and N are the input matrix dimensions.\n",
      "To use the future default and silence this warning we advise to pass `rcond=None`, to keep using the old, explicitly pass `rcond=-1`.\n",
      "  if sys.path[0] == '':\n"
     ]
    },
    {
     "ename": "TypeError",
     "evalue": "zip argument #1 must support iteration",
     "output_type": "error",
     "traceback": [
      "\u001b[0;31m---------------------------------------------------------------------------\u001b[0m",
      "\u001b[0;31mTypeError\u001b[0m                                 Traceback (most recent call last)",
      "\u001b[0;32m<ipython-input-106-232c9856ee60>\u001b[0m in \u001b[0;36m<module>\u001b[0;34m()\u001b[0m\n\u001b[1;32m     21\u001b[0m \u001b[0morg_modes\u001b[0m \u001b[0;34m=\u001b[0m \u001b[0;34m{\u001b[0m\u001b[0;34m'evan_R'\u001b[0m\u001b[0;34m:\u001b[0m \u001b[0;34m[\u001b[0m\u001b[0;34m]\u001b[0m\u001b[0;34m,\u001b[0m \u001b[0;34m'evan_L'\u001b[0m\u001b[0;34m:\u001b[0m \u001b[0;34m[\u001b[0m\u001b[0;34m]\u001b[0m\u001b[0;34m,\u001b[0m \u001b[0;34m'prop_R'\u001b[0m\u001b[0;34m:\u001b[0m \u001b[0;34m[\u001b[0m\u001b[0;34m]\u001b[0m\u001b[0;34m,\u001b[0m \u001b[0;34m'prop_L'\u001b[0m\u001b[0;34m:\u001b[0m \u001b[0;34m[\u001b[0m\u001b[0;34m]\u001b[0m\u001b[0;34m}\u001b[0m\u001b[0;34m\u001b[0m\u001b[0m\n\u001b[1;32m     22\u001b[0m \u001b[0morg_eigs\u001b[0m \u001b[0;34m=\u001b[0m \u001b[0;34m{\u001b[0m\u001b[0;34m'evan_R'\u001b[0m\u001b[0;34m:\u001b[0m \u001b[0;34m[\u001b[0m\u001b[0;34m]\u001b[0m\u001b[0;34m,\u001b[0m \u001b[0;34m'evan_L'\u001b[0m\u001b[0;34m:\u001b[0m \u001b[0;34m[\u001b[0m\u001b[0;34m]\u001b[0m\u001b[0;34m,\u001b[0m \u001b[0;34m'prop_R'\u001b[0m\u001b[0;34m:\u001b[0m \u001b[0;34m[\u001b[0m\u001b[0;34m]\u001b[0m\u001b[0;34m,\u001b[0m \u001b[0;34m'prop_L'\u001b[0m\u001b[0;34m:\u001b[0m \u001b[0;34m[\u001b[0m\u001b[0;34m]\u001b[0m\u001b[0;34m}\u001b[0m\u001b[0;34m\u001b[0m\u001b[0m\n\u001b[0;32m---> 23\u001b[0;31m \u001b[0;32mfor\u001b[0m \u001b[0me\u001b[0m\u001b[0;34m,\u001b[0m \u001b[0mm\u001b[0m \u001b[0;32min\u001b[0m \u001b[0mzip\u001b[0m\u001b[0;34m(\u001b[0m\u001b[0mw\u001b[0m\u001b[0;34m,\u001b[0m \u001b[0mmodes\u001b[0m\u001b[0;34m)\u001b[0m\u001b[0;34m:\u001b[0m\u001b[0;34m\u001b[0m\u001b[0m\n\u001b[0m\u001b[1;32m     24\u001b[0m     \u001b[0mcurrent\u001b[0m \u001b[0;34m=\u001b[0m \u001b[0;36m2\u001b[0m \u001b[0;34m*\u001b[0m \u001b[0;34m(\u001b[0m\u001b[0mm\u001b[0m\u001b[0;34m.\u001b[0m\u001b[0mconjugate\u001b[0m\u001b[0;34m(\u001b[0m\u001b[0;34m)\u001b[0m\u001b[0;34m.\u001b[0m\u001b[0mdot\u001b[0m\u001b[0;34m(\u001b[0m\u001b[0mV_L\u001b[0m\u001b[0;34m.\u001b[0m\u001b[0mdot\u001b[0m\u001b[0;34m(\u001b[0m\u001b[0me\u001b[0m \u001b[0;34m*\u001b[0m \u001b[0mm\u001b[0m\u001b[0;34m)\u001b[0m\u001b[0;34m)\u001b[0m\u001b[0;34m)\u001b[0m\u001b[0;34m.\u001b[0m\u001b[0mimag\u001b[0m\u001b[0;34m\u001b[0m\u001b[0m\n\u001b[1;32m     25\u001b[0m     \u001b[0;32mif\u001b[0m \u001b[0mnp\u001b[0m\u001b[0;34m.\u001b[0m\u001b[0mabs\u001b[0m\u001b[0;34m(\u001b[0m\u001b[0mnp\u001b[0m\u001b[0;34m.\u001b[0m\u001b[0mabsolute\u001b[0m\u001b[0;34m(\u001b[0m\u001b[0me\u001b[0m\u001b[0;34m)\u001b[0m \u001b[0;34m-\u001b[0m \u001b[0;36m1\u001b[0m\u001b[0;34m)\u001b[0m \u001b[0;34m<\u001b[0m \u001b[0;36m1e-8\u001b[0m \u001b[0;34m:\u001b[0m\u001b[0;34m\u001b[0m\u001b[0m\n",
      "\u001b[0;31mTypeError\u001b[0m: zip argument #1 must support iteration"
     ]
    }
   ],
   "source": [
    "# order the modes based on propagating, left/right moving\n",
    "modes = [vec[:N] for vec in v.T]\n",
    "modes_mat = np.vstack((modes[0], modes[1]))\n",
    "for m in modes[2:]:\n",
    "    modes_mat = np.vstack((modes_mat, m))\n",
    "\n",
    "orthog_modes = []\n",
    "\n",
    "for i in range(len(modes)):\n",
    "    b = np.zeros(len(modes))\n",
    "    b[i] = 1.\n",
    "    orthog_modes.append(np.linalg.lstsq(modes_mat, b)[0])\n",
    "    \n",
    "print(orthog_modes[0].dot(modes[1].T))\n",
    "    \n",
    "self_energy_left = 0.\n",
    "self_energy_right = 0.\n",
    "V_L = np.diag(t * np.ones(N))\n",
    "V_R = np.diag(t * np.ones(N))\n",
    "\n",
    "org_modes = {'evan_R': [], 'evan_L': [], 'prop_R': [], 'prop_L': []}\n",
    "org_eigs = {'evan_R': [], 'evan_L': [], 'prop_R': [], 'prop_L': []}\n",
    "for e, m in zip(w, modes):\n",
    "    current = 2 * (m.conjugate().dot(V_L.dot(e * m))).imag\n",
    "    if np.abs(np.absolute(e) - 1) < 1e-8 :\n",
    "        if current < 0:\n",
    "            org_modes['prop_R'].append(m)\n",
    "            org_eigs['prop_R'].append(e)\n",
    "        else:\n",
    "            org_modes['prop_L'].append(m)\n",
    "            org_eigs['prop_L'].append(e)\n",
    "    else:\n",
    "        if current < 0:\n",
    "            org_modes['evan_L'].append(m)\n",
    "            org_eigs['even_L'].append(e)\n",
    "        else:\n",
    "            org_modes['evan_R'].append(m)\n",
    "            org_eigs['evan_R'].append(e)\n",
    "    \n",
    "for w, m in zip(org_eigs['prop_R'], org_modes['prop_R']):\n",
    "    self_energy_left += w**(-1) * np.outer(m, m.conjugate())    \n",
    "for w, m in zip(org_eigs['evan_R'], org_modes['evan_R']):\n",
    "    self_energy_left += w**(-1) * np.outer(m, m.conjugate())  \n",
    "    \n",
    "for w, m in zip(org_eigs['prop_L'], org_modes['prop_L']):\n",
    "    self_energy_right += w * np.outer(m, m.conjugate())\n",
    "for w, m in zip(org_eigs['evan_L'], org_modes['evan_L']):\n",
    "    self_energy_right += w * np.outer(m, m.conjugate())    \n",
    "\n",
    "self_energy_left *= V_L\n",
    "self_energy_right *= V_R"
   ]
  },
  {
   "cell_type": "code",
   "execution_count": 73,
   "metadata": {},
   "outputs": [
    {
     "name": "stdout",
     "output_type": "stream",
     "text": [
      "0 1 Before: (10, 10)\n",
      "After: (20, 10)\n",
      "1 1 Before: (10, 10)\n",
      "After: (20, 10)\n"
     ]
    },
    {
     "data": {
      "image/png": "[encoded data removed]",
      "text/plain": [
       "<matplotlib.figure.Figure at 0x105870e80>"
      ]
     },
     "metadata": {},
     "output_type": "display_data"
    }
   ],
   "source": [
    "rows = [None] * M\n",
    "\n",
    "for i in range(M):\n",
    "    if i == 0:\n",
    "        rows[i] = H + self_energy_left\n",
    "    elif i == 1:\n",
    "        rows[i] = V\n",
    "    else:\n",
    "        rows[i] = Null\n",
    "    \n",
    "for i in range(M):\n",
    "    for j in range(1,M):\n",
    "        print(i,j, 'Before:', rows[i].shape)\n",
    "        if i == j:\n",
    "            if j == M - 1:\n",
    "                rows[i] = np.stack((rows[i], H + self_energy_right), axis=1).reshape((j + 1)*N, N)\n",
    "            else:\n",
    "                rows[i] = np.stack((rows[i], H), axis=1).reshape((j + 1)*N, N)\n",
    "        if i == j - 1 or i == j + 1:\n",
    "            rows[i] = np.stack((rows[i], V), axis=1).reshape((j + 1)*N, N)\n",
    "        print('After:', rows[i].shape)\n",
    "\n",
    "total_H = np.stack((rows[0], rows[1])).reshape(N*M ,N*M)\n",
    "plt.imshow(np.absolute(total_H))\n",
    "plt.colorbar()\n",
    "psi = np.linalg.solve(total_H, np.ones(2 * N))"
   ]
  },
  {
   "cell_type": "code",
   "execution_count": 42,
   "metadata": {},
   "outputs": [
    {
     "data": {
      "text/plain": [
       "<matplotlib.colorbar.Colorbar at 0xa1c2dc518>"
      ]
     },
     "execution_count": 42,
     "metadata": {},
     "output_type": "execute_result"
    },
    {
     "data": {
      "image/png": "[encoded data removed]",
      "text/plain": [
       "<matplotlib.figure.Figure at 0xa1c7bb860>"
      ]
     },
     "metadata": {},
     "output_type": "display_data"
    }
   ],
   "source": [
    "psi_squ = np.absolute(psi.reshape((N,M)))**2\n",
    "plt.imshow(psi_squ)\n",
    "plt.colorbar()"
   ]
  },
  {
   "cell_type": "code",
   "execution_count": null,
   "metadata": {},
   "outputs": [],
   "source": []
  },
  {
   "cell_type": "code",
   "execution_count": null,
   "metadata": {},
   "outputs": [],
   "source": []
  },
  {
   "cell_type": "code",
   "execution_count": null,
   "metadata": {},
   "outputs": [],
   "source": []
  },
  {
   "cell_type": "code",
   "execution_count": null,
   "metadata": {},
   "outputs": [],
   "source": [
    "\n",
    "\n",
    "\n",
    "\n",
    "\n",
    "\n"
   ]
  }
 ],
 "metadata": {
  "kernelspec": {
   "display_name": "Python 3",
   "language": "python",
   "name": "python3"
  },
  "language_info": {
   "codemirror_mode": {
    "name": "ipython",
    "version": 3
   },
   "file_extension": ".py",
   "mimetype": "text/x-python",
   "name": "python",
   "nbconvert_exporter": "python",
   "pygments_lexer": "ipython3",
   "version": "3.6.3"
  }
 },
 "nbformat": 4,
 "nbformat_minor": 2
}
