{
 "cells": [
  {
   "cell_type": "code",
   "execution_count": 68,
   "metadata": {},
   "outputs": [],
   "source": [
    "import numpy as np\n",
    "from scipy.linalg import eig"
   ]
  },
  {
   "cell_type": "code",
   "execution_count": 69,
   "metadata": {},
   "outputs": [
    {
     "name": "stdout",
     "output_type": "stream",
     "text": [
      "[[ 0.  0.  0.  0.  0.  1.  0.  0.  0.  0.]\n",
      " [ 0.  0.  0.  0.  0.  0.  1.  0.  0.  0.]\n",
      " [ 0.  0.  0.  0.  0.  0.  0.  1.  0.  0.]\n",
      " [ 0.  0.  0.  0.  0.  0.  0.  0.  1.  0.]\n",
      " [ 0.  0.  0.  0.  0.  0.  0.  0.  0.  1.]\n",
      " [-1.  0.  0.  0.  0.  0. -1.  0.  0.  0.]\n",
      " [ 0. -1.  0.  0.  0. -1.  0. -1.  0.  0.]\n",
      " [ 0.  0. -1.  0.  0.  0. -1.  0. -1.  0.]\n",
      " [ 0.  0.  0. -1.  0.  0.  0. -1.  0. -1.]\n",
      " [ 0.  0.  0.  0. -1.  0.  0.  0. -1.  0.]]\n",
      "[[-1. -0. -0. -0. -0.  0.  0.  0.  0.  0.]\n",
      " [-0. -1. -0. -0. -0.  0.  0.  0.  0.  0.]\n",
      " [-0. -0. -1. -0. -0.  0.  0.  0.  0.  0.]\n",
      " [-0. -0. -0. -1. -0.  0.  0.  0.  0.  0.]\n",
      " [-0. -0. -0. -0. -1.  0.  0.  0.  0.  0.]\n",
      " [ 0.  0.  0.  0.  0. -1.  0.  0.  0.  0.]\n",
      " [ 0.  0.  0.  0.  0.  0. -1.  0.  0.  0.]\n",
      " [ 0.  0.  0.  0.  0.  0.  0. -1.  0.  0.]\n",
      " [ 0.  0.  0.  0.  0.  0.  0.  0. -1.  0.]\n",
      " [ 0.  0.  0.  0.  0.  0.  0.  0.  0. -1.]]\n"
     ]
    }
   ],
   "source": [
    "# define the parameters for the system\n",
    "\n",
    "E = 0.0\n",
    "t = -1.0\n",
    "v = 0.0\n",
    "N = 5\n",
    "M = 2\n",
    "\n",
    "# set up the lead matrix  \n",
    "H = np.diag(v * np.ones(N) - E) + np.diag(t * np.ones(N - 1), k=1) + np.diag(t * np.ones(N - 1), k = -1)\n",
    "I = np.diag(np.ones(N))\n",
    "V = np.diag(t * np.ones(N))\n",
    "Null = np.zeros((N, N))\n",
    "A = np.stack((np.stack((Null, I), axis=1), np.stack((V, H), axis=1))).reshape(2*N, 2*N)\n",
    "B = np.stack((np.stack((-I, Null), axis=1), np.stack((Null, V), axis=1))).reshape(2*N, 2*N)\n",
    "print(A)\n",
    "print(B)"
   ]
  },
  {
   "cell_type": "code",
   "execution_count": 70,
   "metadata": {},
   "outputs": [
    {
     "name": "stdout",
     "output_type": "stream",
     "text": [
      "[ 0.8660254+0.5      j  0.8660254-0.5      j  0.5      +0.8660254j\n",
      "  0.5      -0.8660254j -0.8660254+0.5      j -0.8660254-0.5      j\n",
      " -0.5      +0.8660254j -0.5      -0.8660254j  0.       +1.       j\n",
      "  0.       -1.       j]\n"
     ]
    }
   ],
   "source": [
    "# diagonalize the lead matrix\n",
    "w, v = eig(A, B)\n",
    "print(w)"
   ]
  },
  {
   "cell_type": "code",
   "execution_count": 80,
   "metadata": {},
   "outputs": [
    {
     "name": "stdout",
     "output_type": "stream",
     "text": [
      "2.220446049250313e-16\n",
      "0.0\n",
      "4.440892098500626e-16\n",
      "6.661338147750939e-16\n",
      "4.440892098500626e-16\n",
      "6.661338147750939e-16\n",
      "5.551115123125783e-16\n",
      "5.551115123125783e-16\n",
      "0.0\n",
      "0.0\n",
      "{'evan_R': [], 'evan_L': [], 'prop_R': [array([-0.20396149-0.0081473 j, -0.35327166-0.01411154j,\n",
      "       -0.40792297-0.0162946 j, -0.35327166-0.01411154j,\n",
      "       -0.20396149-0.0081473 j]), array([ 3.12101759e-01-1.66109879e-01j,  3.12101759e-01-1.66109879e-01j,\n",
      "        5.88287477e-17+2.96195725e-16j, -3.12101759e-01+1.66109879e-01j,\n",
      "       -3.12101759e-01+1.66109879e-01j]), array([ 0.19086803+0.07236062j, -0.33059313-0.12533228j,\n",
      "        0.38173607+0.14472125j, -0.33059313-0.12533228j,\n",
      "        0.19086803+0.07236062j]), array([ 3.53269149e-01-1.41742136e-02j, -3.53269149e-01+1.41742136e-02j,\n",
      "        1.31514292e-16-2.82415650e-16j,  3.53269149e-01-1.41742136e-02j,\n",
      "       -3.53269149e-01+1.41742136e-02j]), array([-4.08248290e-01+6.62398063e-31j,  8.82471104e-32+4.44036943e-17j,\n",
      "        4.08248290e-01+1.20506081e-31j,  2.45130862e-31+6.61791358e-17j,\n",
      "       -4.08248290e-01-4.64114433e-31j])], 'prop_L': [array([-0.20396149+0.0081473 j, -0.35327166+0.01411154j,\n",
      "       -0.40792297+0.0162946 j, -0.35327166+0.01411154j,\n",
      "       -0.20396149+0.0081473 j]), array([ 3.12101759e-01+1.66109879e-01j,  3.12101759e-01+1.66109879e-01j,\n",
      "        5.88287477e-17-2.96195725e-16j, -3.12101759e-01-1.66109879e-01j,\n",
      "       -3.12101759e-01-1.66109879e-01j]), array([ 0.19086803-0.07236062j, -0.33059313+0.12533228j,\n",
      "        0.38173607-0.14472125j, -0.33059313+0.12533228j,\n",
      "        0.19086803-0.07236062j]), array([ 3.53269149e-01+1.41742136e-02j, -3.53269149e-01-1.41742136e-02j,\n",
      "        1.31514292e-16+2.82415650e-16j,  3.53269149e-01+1.41742136e-02j,\n",
      "       -3.53269149e-01-1.41742136e-02j]), array([-4.08248290e-01-6.62398063e-31j,  8.82471104e-32-4.44036943e-17j,\n",
      "        4.08248290e-01-1.20506081e-31j,  2.45130862e-31-6.61791358e-17j,\n",
      "       -4.08248290e-01+4.64114433e-31j])]}\n"
     ]
    }
   ],
   "source": [
    "# order the modes based on propagating, left/right moving\n",
    "modes = [vec[:N] for vec in v.T]\n",
    "self_energy_left = 0.\n",
    "self_energy_right = 0.\n",
    "V_L = np.diag(t * np.ones(N))\n",
    "V_R = np.diag(t * np.ones(N))\n",
    "\n",
    "org_modes = {'evan_R': [], 'evan_L': [], 'prop_R': [], 'prop_L': []}\n",
    "for e, m in zip(w, modes):\n",
    "    current = 2 * (m.conjugate().dot(V_L.dot(e * m))).imag\n",
    "    print(np.abs(np.absolute(e) - 1))\n",
    "    if np.abs(np.absolute(e) - 1) < 1e-8 :\n",
    "        if current < 0:\n",
    "            org_modes['prop_R'].append(m)\n",
    "        else:\n",
    "            org_modes['prop_L'].append(m)\n",
    "    else:\n",
    "        if current < 0:\n",
    "            org_modes['evan_L'].append(m)\n",
    "        else:\n",
    "            org_modes['evan_R'].append(m)\n",
    "    \n",
    "\n",
    "print(org_modes)\n",
    "for i, m in enumerate(modes):\n",
    "    self_energy_left += w[i]**(-1) * np.outer(m, m.conjugate())\n",
    "    self_energy_right += w[i] * np.outer(m, m.conjugate())\n",
    "self_energy_left *= V_L\n",
    "self_energy_right *= V_R"
   ]
  },
  {
   "cell_type": "code",
   "execution_count": 44,
   "metadata": {},
   "outputs": [
    {
     "ename": "ValueError",
     "evalue": "operands could not be broadcast together with shapes (5,5) (2,2) ",
     "output_type": "error",
     "traceback": [
      "\u001b[0;31m---------------------------------------------------------------------------\u001b[0m",
      "\u001b[0;31mValueError\u001b[0m                                Traceback (most recent call last)",
      "\u001b[0;32m<ipython-input-44-5c35985d69f0>\u001b[0m in \u001b[0;36m<module>\u001b[0;34m()\u001b[0m\n\u001b[1;32m      3\u001b[0m \u001b[0;32mfor\u001b[0m \u001b[0mi\u001b[0m \u001b[0;32min\u001b[0m \u001b[0mrange\u001b[0m\u001b[0;34m(\u001b[0m\u001b[0mM\u001b[0m\u001b[0;34m)\u001b[0m\u001b[0;34m:\u001b[0m\u001b[0;34m\u001b[0m\u001b[0m\n\u001b[1;32m      4\u001b[0m     \u001b[0;32mif\u001b[0m \u001b[0mi\u001b[0m \u001b[0;34m==\u001b[0m \u001b[0;36m0\u001b[0m\u001b[0;34m:\u001b[0m\u001b[0;34m\u001b[0m\u001b[0m\n\u001b[0;32m----> 5\u001b[0;31m         \u001b[0mrows\u001b[0m\u001b[0;34m[\u001b[0m\u001b[0mi\u001b[0m\u001b[0;34m]\u001b[0m \u001b[0;34m=\u001b[0m \u001b[0mH\u001b[0m \u001b[0;34m+\u001b[0m \u001b[0mself_energy_left\u001b[0m\u001b[0;34m\u001b[0m\u001b[0m\n\u001b[0m\u001b[1;32m      6\u001b[0m     \u001b[0;32melif\u001b[0m \u001b[0mi\u001b[0m \u001b[0;34m==\u001b[0m \u001b[0;36m1\u001b[0m\u001b[0;34m:\u001b[0m\u001b[0;34m\u001b[0m\u001b[0m\n\u001b[1;32m      7\u001b[0m         \u001b[0mrows\u001b[0m\u001b[0;34m[\u001b[0m\u001b[0mi\u001b[0m\u001b[0;34m]\u001b[0m \u001b[0;34m=\u001b[0m \u001b[0mV\u001b[0m\u001b[0;34m\u001b[0m\u001b[0m\n",
      "\u001b[0;31mValueError\u001b[0m: operands could not be broadcast together with shapes (5,5) (2,2) "
     ]
    }
   ],
   "source": [
    "rows = [None] * M\n",
    "\n",
    "for i in range(M):\n",
    "    if i == 0:\n",
    "        rows[i] = H + self_energy_left\n",
    "    elif i == 1:\n",
    "        rows[i] = V\n",
    "    else:\n",
    "        rows[i] = Null\n",
    "    \n",
    "for i in range(M):\n",
    "    for j in range(1,M):\n",
    "        if i == j:\n",
    "            if j == M - 1:\n",
    "                rows[i] = np.stack((rows[i], H + self_energy_right), axis=1).reshape((j + 1)*N, N)\n",
    "            else:\n",
    "                rows[i] = np.stack((rows[i], H), axis=1).reshape((j + 1)*N, N)\n",
    "        if i == j - 1 or i == j + 1:\n",
    "            rows[i] = np.stack((rows[i], V), axis=1).reshape((j + 1)*N, N)\n",
    "\n",
    "total_H = np.stack((rows[0], rows[1])).reshape(N*M ,N*M)\n",
    "psi = np.linalg.solve(total_H, np.ones(2 * N))\n",
    "print(psi)"
   ]
  },
  {
   "cell_type": "code",
   "execution_count": null,
   "metadata": {},
   "outputs": [],
   "source": []
  }
 ],
 "metadata": {
  "kernelspec": {
   "display_name": "Python 3",
   "language": "python",
   "name": "python3"
  },
  "language_info": {
   "codemirror_mode": {
    "name": "ipython",
    "version": 3
   },
   "file_extension": ".py",
   "mimetype": "text/x-python",
   "name": "python",
   "nbconvert_exporter": "python",
   "pygments_lexer": "ipython3",
   "version": "3.6.3"
  }
 },
 "nbformat": 4,
 "nbformat_minor": 2
}
