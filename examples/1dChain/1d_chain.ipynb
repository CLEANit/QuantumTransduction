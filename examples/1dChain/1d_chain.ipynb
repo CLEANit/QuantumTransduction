{
 "cells": [
  {
   "cell_type": "markdown",
   "metadata": {},
   "source": [
    "# Electron transport through a 1D chain\n",
    "\n",
    "\n",
    "In this tutorial, we are going to introduce the tight binding approximation by considering a 1D chain. In the tight binding approximation, we assume that the wave function can be written as a linear combination of atomic orbitals (LCAO),\n",
    "$$\\psi(x) = \\sum_{i=1}^{N} c_i \\phi_i(x).$$\n",
    "For electron transport, there are 3 regions we are concerned with. On the left hand side, we have the left lead. Here, we have a periodic potential and the lead extends to $-\\infty$. The equation we must solve for the leads looks like\n",
    "$$\n",
    "-\\frac{\\hbar^2}{2m} \\partial_x^2 \\psi + V(x) = E \\psi\n",
    "$$\n",
    "where $V$ is the periodic potential. After the discretization step, we end up with \n",
    "\\begin{eqnarray}\n",
    "-\\frac{\\hbar^2}{2m\\Delta^2}(\\psi_{n-1} - 2 \\psi_n + \\psi_{n+1}) + V_n \\psi_n &=& E \\psi_n\\\\\n",
    "-tc_{n-1}\\phi_{n-1} + (V_n + 2t) c_n\\phi_n -t c_{n+1} \\phi_{n+1} &=& E c_n \\phi_n\n",
    "\\end{eqnarray}\n",
    "If we now multiply the left hand side by $\\phi_m^*$ and integrate over all space we end up with\n",
    "\\begin{eqnarray}\n",
    "-tc_{n-1}\\delta_{m, n-1} + (V_n + 2t) c_n\\delta_{m,n} -t c_{n+1} \\delta_{m, n+1} &=& E c_n \\delta_{m,n}\n",
    "\\end{eqnarray}\n",
    "since $\\langle \\phi_m | \\phi_n \\rangle = \\delta_{m,n}$. We therefore now have the eigenvalue problem\n",
    "\\begin{equation}\n",
    "\\begin{pmatrix}\n",
    "\\ddots & \\ddots         & \\ddots       & 0         & 0      & 0       & 0 \\\\\n",
    "0 & \\beta_{n-1}^* & h_n          & \\beta_n        & 0       & 0      & 0 \\\\\n",
    "0 & 0        & \\beta_{n}^* & h_{n+1}         & \\beta_{n+1} & 0      & 0 \\\\\n",
    "0 & 0        & 0       & \\beta_{n+1}^*  & h_{n+2}      & \\beta_{n+2} & 0\\\\\n",
    "0 & 0         & 0       & 0          & \\ddots       & \\ddots       & \\ddots \n",
    "\\end{pmatrix}\n",
    "\\begin{pmatrix}\n",
    "\\vdots\\\\\n",
    "c_n\\\\\n",
    "c_{n+1}\\\\\n",
    "c_{n+2}\\\\\n",
    "\\vdots\n",
    "\\end{pmatrix}\n",
    "=\n",
    "E{\\bf I}\n",
    "\\begin{pmatrix}\n",
    "\\vdots\\\\\n",
    "c_n\\\\\n",
    "c_{n+1}\\\\\n",
    "c_{n+2}\\\\\n",
    "\\vdots\n",
    "\\end{pmatrix}\n",
    "\\end{equation}\n",
    "where $t = \\frac{\\hbar^2}{2m \\Delta^2}$, $\\beta_n \\equiv \\beta = \\beta^* = t$, and $h_n \\equiv h = V_n + 2t$. Now we take advantage of the periodicity of the potential. The coefficients $c_n$ are related by a phase $\\lambda$. If\n",
    "$$c_{n-1} = c \\rightarrow c_n = \\lambda c_{n-1},~c_{n+1} = c\\lambda^2$$\n",
    "The equation we must solve then becomes\n",
    "\\begin{eqnarray}\n",
    "(-\\beta + (E - h)\\lambda - \\beta\\lambda^2)c &=& 0\n",
    "\\end{eqnarray}\n",
    "which is simply a quadratic equation for $\\lambda$. Here, we get two solutions\n",
    "\\begin{eqnarray}\n",
    "\\begin{array}{cc}\n",
    "\\text{if } \\frac{E - h}{2\\beta} \\leq 1 ~ \\text{ define } \\cos(k\\Delta) = \\frac{E - h}{2\\beta} & \\rightarrow \\lambda_{\\pm} = e^{\\pm i k \\Delta}\\\\\n",
    "\\text{if } \\frac{E - h}{2\\beta} > 1 ~ \\text{ define } \\cosh(\\kappa \\Delta) = \\frac{E - h}{2\\beta} & \\rightarrow \\lambda_{\\pm} = e^{\\pm \\kappa \\Delta}\n",
    "\\end{array}\n",
    "\\end{eqnarray}\n",
    "The first solutions are travelling waves, and the second solutions are evanescent waves. Once we set a value to $c_0$, we can simply find the solution $c_n=c_0\\lambda^n$. For the right lead, we will find the exact same solution.\n",
    "\n",
    "\n",
    "For the nanojunction, we have a very similar Hamiltonian as before but it is now finite\n",
    "\\begin{equation}\n",
    "\\begin{pmatrix}\n",
    "h_1          & \\beta_1        & 0       & 0      & 0  & 0 & 0 & 0 & 0 \\\\\n",
    "0 & \\ddots & \\ddots         & \\ddots       & 0         & 0      & 0       & 0 & 0\\\\\n",
    "0 & 0 & \\beta_{n-1}^* & h_n          & \\beta_n        & 0       & 0      & 0  & 0\\\\\n",
    "0 & 0 & 0        & \\beta_{n}^* & h_{n+1}         & \\beta_{n+1} & 0      & 0  & 0 \\\\\n",
    "0 & 0 & 0        & 0       & \\beta_{n+1}^*  & h_{n+2}      & \\beta_{n+2} & 0 & 0\\\\\n",
    "0 & 0 & 0         & 0       & 0          & \\ddots       & \\ddots       & \\ddots & 0\\\\\n",
    "0 & 0 & 0 & 0 & 0 & 0 & 0 & \\beta_{N-1}^* & h_N\n",
    "\\end{pmatrix}\n",
    "\\begin{pmatrix}\n",
    "u_1\\\\\n",
    "\\vdots\\\\\n",
    "u_n\\\\\n",
    "u_{n+1}\\\\\n",
    "u_{n_2}\\\\\n",
    "\\vdots\\\\\n",
    "u_N\n",
    "\\end{pmatrix}\n",
    "=\n",
    "E{\\bf I}\n",
    "\\begin{pmatrix}\n",
    "u_1\\\\\n",
    "\\vdots\\\\\n",
    "u_n\\\\\n",
    "u_{n+1}\\\\\n",
    "u_{n_2}\\\\\n",
    "\\vdots\\\\\n",
    "u_N\n",
    "\\end{pmatrix}\n",
    "\\end{equation}\n",
    "At the boundaries, we must match our solutions with the lead solutions. At the left hand side, we have\n",
    "$$-\\beta u_{0} + h_1 u_1 - \\beta u_{2} = E u_1$$\n",
    "where \n",
    "$$u_{0} = A e^{-ik\\Delta} + (u_1 - A) e^{ik\\Delta}$$ \n",
    "Plugging this in yields \n",
    "$$-\\beta [A e^{-ik\\Delta} + (u_1 - A) e^{ik\\Delta}] + h_1 u_1 - \\beta u_{2} = E u_1$$\n",
    "On the right hand side\n",
    "$$-\\beta u_{N-1} + h_N u_N -\\beta u_{N+1}= E u_N$$\n",
    "where\n",
    "$$u_{N+1} = u_{N} e^{ik\\Delta}.$$\n",
    "We therefore get \n",
    "$$-\\beta u_{N-1} + h_N u_N -\\beta u_{N}e^{ik\\Delta}= E u_N$$\n",
    "and our Hamiltonian now looks like\n",
    "\\begin{equation}\n",
    "\\begin{pmatrix}\n",
    "h_1 -\\beta e^{ik\\Delta}        & \\beta_1        & 0       & 0      & 0  & 0 & 0 & 0 & 0 \\\\\n",
    "0 & \\ddots & \\ddots         & \\ddots       & 0         & 0      & 0       & 0 & 0\\\\\n",
    "0 & 0 & \\beta_{n-1}^* & h_n          & \\beta_n        & 0       & 0      & 0  & 0\\\\\n",
    "0 & 0 & 0        & \\beta_{n}^* & h_{n+1}         & \\beta_{n+1} & 0      & 0  & 0 \\\\\n",
    "0 & 0 & 0        & 0       & \\beta_{n+1}^*  & h_{n+2}      & \\beta_{n+2} & 0 & 0\\\\\n",
    "0 & 0 & 0         & 0       & 0          & \\ddots       & \\ddots       & \\ddots & 0\\\\\n",
    "0 & 0 & 0 & 0 & 0 & 0 & 0 & \\beta_{N-1}^* & h_N - \\beta e^{ik\\Delta}\n",
    "\\end{pmatrix}\n",
    "\\begin{pmatrix}\n",
    "u_1\\\\\n",
    "\\vdots\\\\\n",
    "u_n\\\\\n",
    "u_{n+1}\\\\\n",
    "u_{n_2}\\\\\n",
    "\\vdots\\\\\n",
    "u_N\n",
    "\\end{pmatrix}\n",
    "+ \n",
    "\\begin{pmatrix}\n",
    "-\\beta A (e^{-ik\\Delta} - e^{ik\\Delta})\\\\\n",
    "\\vdots\\\\\n",
    "0\\\\\n",
    "0\\\\\n",
    "0\\\\\n",
    "\\vdots\\\\\n",
    "0\n",
    "\\end{pmatrix}\n",
    "=\n",
    "E{\\bf I}\n",
    "\\begin{pmatrix}\n",
    "u_1\\\\\n",
    "\\vdots\\\\\n",
    "u_n\\\\\n",
    "u_{n+1}\\\\\n",
    "u_{n_2}\\\\\n",
    "\\vdots\\\\\n",
    "u_N\n",
    "\\end{pmatrix}\n",
    "\\end{equation}"
   ]
  },
  {
   "cell_type": "code",
   "execution_count": 112,
   "metadata": {},
   "outputs": [],
   "source": [
    "import kwant\n",
    "from matplotlib import pyplot\n",
    "from scipy.sparse.linalg import eigs\n",
    "import numpy as np\n",
    "%matplotlib inline\n",
    "\n",
    "def make_system(a=1, t=1.0, L=50):\n",
    "    # Start with an empty tight-binding system and a single square lattice. \n",
    "    # `a` is the lattice constant (by default set to 1 for simplicity.\n",
    "    lat = kwant.lattice.chain(a, norbs=1)\n",
    "\n",
    "    syst = kwant.Builder()\n",
    "\n",
    "    syst[(lat(x) for x in range(L))] = 2 * t\n",
    "\n",
    "    syst[lat.neighbors()] = -t\n",
    "    # syst[lat(0), lat(L - 1)] = -t\n",
    "\n",
    "    lead = kwant.Builder(kwant.TranslationalSymmetry((-a,)))\n",
    "    lead[lat(0)] = 2 * t\n",
    "    lead[lat.neighbors()] = -t\n",
    "    syst.attach_lead(lead)\n",
    "    syst.attach_lead(lead.reversed())\n",
    "    \n",
    "    return syst"
   ]
  },
  {
   "cell_type": "code",
   "execution_count": 113,
   "metadata": {},
   "outputs": [
    {
     "name": "stderr",
     "output_type": "stream",
     "text": [
      "/Users/b295319/anaconda3/lib/python3.6/site-packages/kwant/linalg/lll.py:103: FutureWarning: `rcond` parameter will change to the default of machine precision times ``max(M, N)`` where M and N are the input matrix dimensions.\n",
      "To use the future default and silence this warning we advise to pass `rcond=None`, to keep using the old, explicitly pass `rcond=-1`.\n",
      "  coefs = np.linalg.lstsq(vecs_orig.T, vecs.T)[0]\n",
      "/Users/b295319/anaconda3/lib/python3.6/site-packages/kwant/linalg/lll.py:144: FutureWarning: `rcond` parameter will change to the default of machine precision times ``max(M, N)`` where M and N are the input matrix dimensions.\n",
      "To use the future default and silence this warning we advise to pass `rcond=None`, to keep using the old, explicitly pass `rcond=-1`.\n",
      "  center_coords = np.array(np.round(np.linalg.lstsq(basis.T, vec)[0]), int)\n"
     ]
    },
    {
     "data": {
      "image/png": "[encoded data removed]",
      "text/plain": [
       "<matplotlib.figure.Figure at 0xa368f0860>"
      ]
     },
     "metadata": {},
     "output_type": "display_data"
    }
   ],
   "source": [
    "syst = make_system()\n",
    "# Check that the system looks as intended.\n",
    "kwant.plot(syst)\n",
    "# Finalize the system.\n",
    "syst = syst.finalized()\n"
   ]
  },
  {
   "cell_type": "code",
   "execution_count": 114,
   "metadata": {},
   "outputs": [
    {
     "name": "stdout",
     "output_type": "stream",
     "text": [
      "Total number of states: 4575.6135967855\n"
     ]
    },
    {
     "data": {
      "text/plain": [
       "Text(0.5,0,'Density of states [Arbitrary units]')"
      ]
     },
     "execution_count": 114,
     "metadata": {},
     "output_type": "execute_result"
    },
    {
     "data": {
      "image/png": "[encoded data removed]",
      "text/plain": [
       "<matplotlib.figure.Figure at 0xa36878cc0>"
      ]
     },
     "metadata": {},
     "output_type": "display_data"
    }
   ],
   "source": [
    "def conductance(syst, energies):\n",
    "    data = []\n",
    "    for energy in energies:\n",
    "        smatrix = kwant.smatrix(syst, energy)\n",
    "        data.append(smatrix.transmission(0, 1))\n",
    "    return data\n",
    "    \n",
    "\n",
    "density = kwant.operator.Density(syst)\n",
    "\n",
    "energies, doss = [], []\n",
    "for e in np.linspace(0.0, 4.0, 128):\n",
    "    try:\n",
    "        wf = kwant.wave_function(syst, energy=e)(0)\n",
    "        dos = density(wf[0])\n",
    "        energies.append(e)\n",
    "        doss.append(np.sum(dos))\n",
    "#         pyplot.plot(np.absolute(wf))\n",
    "#         pyplot.show()\n",
    "    except:\n",
    "        pass\n",
    "\n",
    "e = np.linspace(-10,10,256)\n",
    "cond = conductance(syst, energies=e)\n",
    "fig, axes = pyplot.subplots(1,3, figsize=(15,5), sharey='row')\n",
    "\n",
    "kwant.plotter.bands(syst.leads[0], momenta=np.linspace(-np.pi,  np.pi, 256), show=False, ax=axes[0])\n",
    "axes[1].plot(cond, e)\n",
    "axes[2].plot(doss, energies)\n",
    "\n",
    "\n",
    "print('Total number of states:', np.sum(doss))\n",
    "\n",
    "axes[0].set_ylim((np.min(energies) -1, np.max(energies) + 1))\n",
    "axes[1].set_ylim((np.min(energies) -1, np.max(energies) + 1))\n",
    "axes[2].set_ylim((np.min(energies) -1, np.max(energies) + 1))\n",
    "axes[0].set_xlabel('k')\n",
    "axes[0].set_ylabel('Energy [t]')\n",
    "pyplot.sca(axes[0])\n",
    "pyplot.xticks(range(-3,4), ['-$\\pi / a$', '', '', 0, '', '', '$\\pi / a$'])\n",
    "\n",
    "axes[1].set_xlabel('Conductance [$2e^2 / h$]')\n",
    "axes[2].set_xlabel('Density of states [Arbitrary units]')"
   ]
  },
  {
   "cell_type": "code",
   "execution_count": 115,
   "metadata": {},
   "outputs": [],
   "source": [
    "kB = 1.0\n",
    "T = 0.001\n",
    "def fermi(E, mu):\n",
    "    return 1. / (np.exp((E - mu) / (kB * T)) + 1.)\n",
    "\n",
    "vec_fermi = np.vectorize(fermi)"
   ]
  },
  {
   "cell_type": "code",
   "execution_count": 116,
   "metadata": {},
   "outputs": [
    {
     "data": {
      "text/plain": [
       "[<matplotlib.lines.Line2D at 0xa36e85f28>,\n",
       " <matplotlib.lines.Line2D at 0xa36e940b8>]"
      ]
     },
     "execution_count": 116,
     "metadata": {},
     "output_type": "execute_result"
    },
    {
     "data": {
      "image/png": "[encoded data removed]",
      "text/plain": [
       "<matplotlib.figure.Figure at 0xa36d4d438>"
      ]
     },
     "metadata": {},
     "output_type": "display_data"
    }
   ],
   "source": [
    "pyplot.plot(e, vec_fermi(e, -0.1), e, vec_fermi(e, 0.1))"
   ]
  },
  {
   "cell_type": "code",
   "execution_count": 117,
   "metadata": {},
   "outputs": [
    {
     "name": "stdout",
     "output_type": "stream",
     "text": [
      "The current is: 1.273240 e / h.\n"
     ]
    },
    {
     "data": {
      "image/png": "[encoded data removed]",
      "text/plain": [
       "<matplotlib.figure.Figure at 0xa36e11438>"
      ]
     },
     "metadata": {},
     "output_type": "display_data"
    }
   ],
   "source": [
    "diff = vec_fermi(e, 2.0) - vec_fermi(e, -2.0)\n",
    "pyplot.plot(e, diff, e, cond)\n",
    "current = 2 * (e[1] - e[0]) * np.sum(cond * diff) / np.pi\n",
    "print('The current is: %f e / h.' % current)"
   ]
  },
  {
   "cell_type": "code",
   "execution_count": 120,
   "metadata": {},
   "outputs": [
    {
     "data": {
      "text/plain": [
       "Text(0,0.5,'Current [2e / h]')"
      ]
     },
     "execution_count": 120,
     "metadata": {},
     "output_type": "execute_result"
    },
    {
     "data": {
      "image/png": "[encoded data removed]",
      "text/plain": [
       "<matplotlib.figure.Figure at 0xa36de13c8>"
      ]
     },
     "metadata": {},
     "output_type": "display_data"
    }
   ],
   "source": [
    "bias = np.linspace(-10.0, 10.0, 256)\n",
    "V, I = [], []\n",
    "for i, val in enumerate(bias):\n",
    "    mu_left = 2.0 + val / 2.\n",
    "    mu_right = -val / 2.0 + 2.0\n",
    "    diff = vec_fermi(e, mu_left) - vec_fermi(e, mu_right)\n",
    "    current = (e[1] - e[0]) * np.sum(cond * diff) \n",
    "    I.append(current)\n",
    "    V.append(mu_left - mu_right)\n",
    "pyplot.plot(V, I)\n",
    "pyplot.xlabel('Bias [t / e]')\n",
    "pyplot.ylabel('Current [2e / h]')"
   ]
  },
  {
   "cell_type": "code",
   "execution_count": null,
   "metadata": {},
   "outputs": [],
   "source": []
  },
  {
   "cell_type": "code",
   "execution_count": null,
   "metadata": {},
   "outputs": [],
   "source": []
  },
  {
   "cell_type": "code",
   "execution_count": null,
   "metadata": {},
   "outputs": [],
   "source": []
  }
 ],
 "metadata": {
  "kernelspec": {
   "display_name": "Python 3",
   "language": "python",
   "name": "python3"
  },
  "language_info": {
   "codemirror_mode": {
    "name": "ipython",
    "version": 3
   },
   "file_extension": ".py",
   "mimetype": "text/x-python",
   "name": "python",
   "nbconvert_exporter": "python",
   "pygments_lexer": "ipython3",
   "version": "3.6.3"
  }
 },
 "nbformat": 4,
 "nbformat_minor": 2
}
