{
 "cells": [
  {
   "cell_type": "markdown",
   "metadata": {},
   "source": [
    "# 2D ladder, some theory and practice\n",
    "\n",
    "2D systems become a bit more complicated, but at the end of the day we end up finding very similar matrices to 1D problems. Consider a ladder, that will be infinite in the $x$-direction, but finite in the $y$ where there is only 2 sites. The Hamiltonian for our system with 5 sites in the $x$-direction is\n",
    "\n",
    "\\begin{equation}\n",
    "{\\bf H}=\n",
    "\\begin{pmatrix}\n",
    "H_1 & B_{12} \\\\\n",
    "B_{12}^{\\dagger} & H_2\n",
    "\\end{pmatrix}\n",
    "\\end{equation}\n",
    "\n",
    "where $H_i$ is now the Hamiltonian for layer $i$ in the $x$ direction, and $B_{ij}$ is the coupling between layers $i$ and $j$.\n",
    "\n",
    "We now would like to solve ${\\bf H}\\psi = E\\psi$, where\n",
    "$$\n",
    "\\psi=u_{k_1}(x)e^{ik_1x} + u_{k_2}(x)e^{ik_2x}.\n",
    "$$\n",
    "Plugging this form into the TISE, we get\n",
    "\n",
    "\\begin{equation}\n",
    "{\\bf H}=\n",
    "\\begin{pmatrix}\n",
    " H_1 &  B_{12} \\\\\n",
    " B_{12}^{\\dagger} & H_2\n",
    "\\end{pmatrix}\n",
    "\\begin{pmatrix}\n",
    "u_{k_1}(x)e^{ik_1x} \\\\\n",
    "u_{k_2}(x)e^{ik_2x}\n",
    "\\end{pmatrix}=\n",
    "E\\begin{pmatrix}\n",
    "u_{k_1}(x)e^{ik_1x} \\\\\n",
    "u_{k_2}(x)e^{ik_2x}\n",
    "\\end{pmatrix}\n",
    "\\end{equation}\n",
    "\n",
    "Multiplying on the LHS by $\\psi^*$ and integrating over all space, we find\n",
    "\\begin{eqnarray}\n",
    "\\int dx~\n",
    "\\begin{pmatrix}\n",
    "u_{k_1}(x)^*e^{-ik_1x} &\n",
    "u_{k_2}(x)^*e^{-ik_2x}\n",
    "\\end{pmatrix}\n",
    "\\begin{pmatrix}\n",
    "H_1 & B_{12} \\\\\n",
    "B_{12}^{\\dagger} & H_2\n",
    "\\end{pmatrix}\n",
    "\\begin{pmatrix}\n",
    "u_{k_1}(x)e^{ik_1x} \\\\\n",
    "u_{k_2}(x)e^{ik_2x}\n",
    "\\end{pmatrix}&=&\n",
    "\\int dx\n",
    "\\begin{pmatrix}\n",
    "u_{k_1}(x)^*e^{-ik_1x} &\n",
    "u_{k_2}(x)^*e^{-ik_2x}\n",
    "\\end{pmatrix}\n",
    "E\\begin{pmatrix}\n",
    "u_{k_1}(x)e^{ik_1x} \\\\\n",
    "u_{k_2}(x)e^{ik_2x}\n",
    "\\end{pmatrix}\\\\\n",
    "\\begin{pmatrix}\n",
    "\\langle u_{k_1}(x)^*e^{-ik_1x} |H_1|u_{k_1}(x)e^{ik_1x}\\rangle & \\langle u_{k_1}(x)^*e^{-ik_1x}| B_{12}|u_{k_2}(x)e^{ik_2x}\\rangle \\\\\n",
    "\\langle u_{k_2}(x)^*e^{-ik_2x} |B_{12}^{\\dagger}|u_{k_1}(x)e^{ik_1x}\\rangle & \\langle u_{k_2}(x)^*e^{-ik_2x} |  H_2|u_{k_2}(x)e^{ik_2x}\\rangle\n",
    "\\end{pmatrix}&=&\n",
    "E\\begin{pmatrix}\n",
    "\\langle u_{k_1}(x)^*e^{-ik_1x} |u_{k_1}(x)e^{ik_1x}\\rangle & \\langle u_{k_1}(x)^*e^{-ik_1x} |u_{k_2}(x)e^{ik_2x}\\rangle \\\\\n",
    "\\langle u_{k_2}(x)^*e^{-ik_2x} |u_{k_1}(x)e^{ik_1x}\\rangle & \\langle u_{k_2}(x)^*e^{-ik_2x} |u_{k_2}(x)e^{ik_2x}\\rangle\n",
    "\\end{pmatrix}\\\\\n",
    "\\begin{pmatrix}\n",
    "\\langle u_{k_1}(x)^*e^{-ik_1x} |H_1|u_{k_1}(x)e^{ik_1x}\\rangle & \\langle u_{k_1}(x)^*e^{-ik_1x}| B_{12}|u_{k_2}(x)e^{ik_2x}\\rangle \\\\\n",
    "\\langle u_{k_2}(x)^*e^{-ik_2x} |B_{12}^{\\dagger}|u_{k_1}(x)e^{ik_1x}\\rangle & \\langle u_{k_2}(x)^*e^{-ik_2x} | H_2|u_{k_2}(x)e^{ik_2x}\\rangle\n",
    "\\end{pmatrix}-E{\\bf I}&=&0\n",
    "\\end{eqnarray}\n",
    "Let's now consider the diagonal elements, if \n",
    "$$\n",
    "H_n = -\\frac{\\hbar^2}{2m}\\frac{\\partial^2}{\\partial_x^2} + V(x)\n",
    "$$\n",
    "then, discretizing this gives\n",
    "$$\n",
    "H_n|u_{k_i}e^{ik_ix}\\rangle = -\\frac{\\hbar^2}{2m\\Delta^2}(u_{k_i}^{(n + 1)}e^{ik_i\\Delta(n+1)} - 2u_{k_i}^{(n)}e^{ik_i\\Delta n} + u_{k_i}^{(n-1)}e^{ik_i\\Delta(n-1)}) + V(n)u_{k_i}^{(n)}e^{ik_i\\Delta n}\n",
    "$$\n",
    "which in turn yields\n",
    "$$\\langle u_{k_i}^{(m)}e^{ik_i\\Delta m} | H_n | u_{k_i}^{(n)}e^{ik_i\\Delta n}\\rangle =-\\frac{\\hbar^2}{2m\\Delta^2}(\\delta_{n+1,m} - 2\\delta_{n,m} + \\delta_{n-1, m}) + V(n)\\delta_{n,m}\n",
    "$$\n",
    "which is precisely what we had for a 1D chain. In matrix form, we obtain \n",
    "\\begin{equation}\n",
    "\\begin{pmatrix}\n",
    "2t + V_{11} & -t & 0 & 0 & 0\\\\\n",
    "-t  & 2t + V_{12} & -t & 0 & 0\\\\\n",
    "0 & -t & 2t + V_{13} & -t & 0 \\\\ \n",
    "0 & 0 & -t & 2t + V_{14} & -t  \\\\ \n",
    "0 & 0 & 0 & -t & 2t + V_{15}\n",
    "\\end{pmatrix}\n",
    "\\end{equation}\n",
    "\n",
    "where I have defined $t=\\frac{\\hbar^2}{2m}$. Our total Hamiltonian matrix then becomes (thus far)\n",
    "$$\n",
    "\\begin{pmatrix}\n",
    "\\begin{pmatrix}\n",
    "2t + V_{12} & -t & 0 & 0 & 0\\\\\n",
    "-t  & 2t + V_{12} & -t & 0 & 0\\\\\n",
    "0 & -t & 2t + V_{13} & -t & 0 \\\\ \n",
    "0 & 0 & -t & 2t + V_{14} & -t  \\\\ \n",
    "0 & 0 & 0 & -t & 2t + V_{15}\n",
    "\\end{pmatrix} & \\langle u_{k_1}(x)^*e^{-ik_1x}| B_{12}|u_{k_2}(x)e^{ik_2x}\\rangle\\\\\n",
    "\\langle u_{k_2}(x)^*e^{-ik_2x} |B_{12}^{\\dagger}|u_{k_1}(x)e^{ik_1x}\\rangle  & \\begin{pmatrix}\n",
    "2t + V_{21} & -t & 0 & 0 & 0\\\\\n",
    "-t  & 2t + V_{22} & -t & 0 & 0\\\\\n",
    "0 & -t & 2t + V_{23} & -t & 0 \\\\ \n",
    "0 & 0 & -t & 2t + V_{24} & -t  \\\\ \n",
    "0 & 0 & 0 & -t & 2t + V_{25}\n",
    "\\end{pmatrix}\\\\\n",
    "\\end{pmatrix}-E{\\bf I} = 0\n",
    "$$\n",
    "\n",
    "Now writing out the off-diagonal elements, let's consider the case where only neighboring sites have interactions such that\n",
    "$$\n",
    "B_{12} = \\left\\{\\begin{matrix} -t & \\text{if }"
   ]
  },
  {
   "cell_type": "code",
   "execution_count": 32,
   "metadata": {},
   "outputs": [],
   "source": [
    "import kwant \n",
    "# For plotting\n",
    "from matplotlib import pyplot\n",
    "import numpy as np\n",
    "%matplotlib inline"
   ]
  },
  {
   "cell_type": "code",
   "execution_count": 33,
   "metadata": {},
   "outputs": [],
   "source": [
    "def make_system(a=1, t=1.0, W=2, L=5):\n",
    "    # Start with an empty tight-binding system and a single square lattice. \n",
    "    # `a` is the lattice constant (by default set to 1 for simplicity.\n",
    "    lat = kwant.lattice.square(a)\n",
    "\n",
    "    syst = kwant.Builder()\n",
    "\n",
    "    syst[(lat(x, y) for x in range(L) for y in range(W))] = 4 * t\n",
    "\n",
    "    syst[lat.neighbors()] = -t\n",
    "\n",
    "    lead = kwant.Builder(kwant.TranslationalSymmetry((-a, 0)))\n",
    "    lead[(lat(0, j) for j in range(W))] = 4 * t\n",
    "    lead[lat.neighbors()] = -t\n",
    "    syst.attach_lead(lead)\n",
    "    syst.attach_lead(lead.reversed())\n",
    "    return syst"
   ]
  },
  {
   "cell_type": "code",
   "execution_count": 34,
   "metadata": {},
   "outputs": [],
   "source": [
    "def plot_conductance(syst, energies): # Compute conductance\n",
    "    data = []\n",
    "    for energy in energies:\n",
    "        smatrix = kwant.smatrix(syst, energy)\n",
    "        data.append(smatrix.transmission(0, 1))\n",
    "    pyplot.figure()\n",
    "    pyplot.plot(energies, data)\n",
    "    pyplot.xlabel(\"energy [t]\")\n",
    "    pyplot.ylabel(\"conductance [$e^2/h$]\")\n",
    "    pyplot.show()"
   ]
  },
  {
   "cell_type": "code",
   "execution_count": 35,
   "metadata": {},
   "outputs": [
    {
     "name": "stderr",
     "output_type": "stream",
     "text": [
      "/Users/b295319/anaconda3/lib/python3.6/site-packages/kwant/linalg/lll.py:103: FutureWarning: `rcond` parameter will change to the default of machine precision times ``max(M, N)`` where M and N are the input matrix dimensions.\n",
      "To use the future default and silence this warning we advise to pass `rcond=None`, to keep using the old, explicitly pass `rcond=-1`.\n",
      "  coefs = np.linalg.lstsq(vecs_orig.T, vecs.T)[0]\n",
      "/Users/b295319/anaconda3/lib/python3.6/site-packages/kwant/linalg/lll.py:144: FutureWarning: `rcond` parameter will change to the default of machine precision times ``max(M, N)`` where M and N are the input matrix dimensions.\n",
      "To use the future default and silence this warning we advise to pass `rcond=None`, to keep using the old, explicitly pass `rcond=-1`.\n",
      "  center_coords = np.array(np.round(np.linalg.lstsq(basis.T, vec)[0]), int)\n"
     ]
    },
    {
     "data": {
      "image/png": "[encoded data removed]",
      "text/plain": [
       "<matplotlib.figure.Figure at 0xa2c85ef98>"
      ]
     },
     "metadata": {},
     "output_type": "display_data"
    },
    {
     "data": {
      "image/png": "[encoded data removed]",
      "text/plain": [
       "<matplotlib.figure.Figure at 0xa3132f2e8>"
      ]
     },
     "metadata": {},
     "output_type": "display_data"
    }
   ],
   "source": [
    "syst = make_system()\n",
    "# Check that the system looks as intended.\n",
    "kwant.plot(syst)\n",
    "# Finalize the system.\n",
    "syst = syst.finalized()\n",
    "# We should see conductance steps.\n",
    "plot_conductance(syst, energies=np.linspace(-10,10,128))"
   ]
  },
  {
   "cell_type": "code",
   "execution_count": null,
   "metadata": {},
   "outputs": [],
   "source": []
  },
  {
   "cell_type": "code",
   "execution_count": null,
   "metadata": {},
   "outputs": [],
   "source": []
  }
 ],
 "metadata": {
  "kernelspec": {
   "display_name": "Python 3",
   "language": "python",
   "name": "python3"
  },
  "language_info": {
   "codemirror_mode": {
    "name": "ipython",
    "version": 3
   },
   "file_extension": ".py",
   "mimetype": "text/x-python",
   "name": "python",
   "nbconvert_exporter": "python",
   "pygments_lexer": "ipython3",
   "version": "3.6.3"
  }
 },
 "nbformat": 4,
 "nbformat_minor": 2
}
