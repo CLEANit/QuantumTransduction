{
 "cells": [
  {
   "cell_type": "markdown",
   "metadata": {},
   "source": [
    "# 2D ladder, some theory and practice\n"
   ]
  },
  {
   "cell_type": "code",
   "execution_count": 152,
   "metadata": {},
   "outputs": [
    {
     "name": "stdout",
     "output_type": "stream",
     "text": [
      "0.0 {'imag-': 0, 'imag+': 0, 'real-': 0, 'real+': 5}\n",
      "0.3225806451612903 {'imag-': 5, 'imag+': 5, 'real-': 0, 'real+': 0}\n",
      "0.6451612903225806 {'imag-': 5, 'imag+': 5, 'real-': 0, 'real+': 0}\n",
      "0.967741935483871 {'imag-': 5, 'imag+': 5, 'real-': 0, 'real+': 0}\n",
      "1.2903225806451613 {'imag-': 5, 'imag+': 5, 'real-': 0, 'real+': 0}\n",
      "1.6129032258064515 {'imag-': 5, 'imag+': 5, 'real-': 0, 'real+': 0}\n",
      "1.935483870967742 {'imag-': 5, 'imag+': 5, 'real-': 0, 'real+': 0}\n",
      "2.258064516129032 {'imag-': 5, 'imag+': 5, 'real-': 0, 'real+': 0}\n",
      "2.5806451612903225 {'imag-': 5, 'imag+': 5, 'real-': 0, 'real+': 0}\n",
      "2.903225806451613 {'imag-': 5, 'imag+': 5, 'real-': 0, 'real+': 0}\n",
      "3.225806451612903 {'imag-': 5, 'imag+': 5, 'real-': 0, 'real+': 0}\n",
      "3.5483870967741935 {'imag-': 5, 'imag+': 5, 'real-': 0, 'real+': 0}\n",
      "3.870967741935484 {'imag-': 5, 'imag+': 5, 'real-': 0, 'real+': 0}\n",
      "4.193548387096774 {'imag-': 0, 'imag+': 10, 'real-': 0, 'real+': 0}\n",
      "4.516129032258064 {'imag-': 0, 'imag+': 10, 'real-': 0, 'real+': 0}\n",
      "4.838709677419355 {'imag-': 0, 'imag+': 10, 'real-': 0, 'real+': 0}\n",
      "5.161290322580645 {'imag-': 0, 'imag+': 10, 'real-': 0, 'real+': 0}\n",
      "5.483870967741935 {'imag-': 0, 'imag+': 10, 'real-': 0, 'real+': 0}\n",
      "5.806451612903226 {'imag-': 0, 'imag+': 10, 'real-': 0, 'real+': 0}\n",
      "6.129032258064516 {'imag-': 0, 'imag+': 10, 'real-': 0, 'real+': 0}\n",
      "6.451612903225806 {'imag-': 0, 'imag+': 10, 'real-': 0, 'real+': 0}\n",
      "6.774193548387097 {'imag-': 0, 'imag+': 10, 'real-': 0, 'real+': 0}\n",
      "7.096774193548387 {'imag-': 0, 'imag+': 10, 'real-': 0, 'real+': 0}\n",
      "7.419354838709677 {'imag-': 0, 'imag+': 10, 'real-': 0, 'real+': 0}\n",
      "7.741935483870968 {'imag-': 0, 'imag+': 10, 'real-': 0, 'real+': 0}\n",
      "8.064516129032258 {'imag-': 0, 'imag+': 10, 'real-': 0, 'real+': 0}\n",
      "8.387096774193548 {'imag-': 0, 'imag+': 10, 'real-': 0, 'real+': 0}\n",
      "8.709677419354838 {'imag-': 0, 'imag+': 10, 'real-': 0, 'real+': 0}\n",
      "9.032258064516128 {'imag-': 0, 'imag+': 10, 'real-': 0, 'real+': 0}\n",
      "9.35483870967742 {'imag-': 0, 'imag+': 10, 'real-': 0, 'real+': 0}\n",
      "9.67741935483871 {'imag-': 0, 'imag+': 10, 'real-': 0, 'real+': 0}\n",
      "10.0 {'imag-': 0, 'imag+': 10, 'real-': 0, 'real+': 0}\n"
     ]
    }
   ],
   "source": [
    "import numpy as np\n",
    "import matplotlib.pyplot as plt\n",
    "from scipy.linalg import eig\n",
    "%matplotlib inline\n",
    "\n",
    "E = 0.\n",
    "n_modes = 5\n",
    "for E in np.linspace(0., 10., 32):\n",
    "    H = np.matrix(np.eye(n_modes) * 2.)\n",
    "    V = np.matrix(np.eye(n_modes) * -1.)\n",
    "    zs = np.zeros((n_modes, n_modes))\n",
    "    os = np.eye(n_modes)\n",
    "    top = np.hstack((zs, os))\n",
    "    bottom = np.hstack((-V, os* E - H))\n",
    "    p1 = np.vstack((top, bottom))\n",
    "    p2 = np.vstack((np.hstack((os, zs)), np.hstack((zs, V.H))))\n",
    "    eigs, vecs = eig(p1, p2)\n",
    "    counts = {'imag-': 0, 'imag+': 0, 'real-': 0, 'real+': 0}\n",
    "    for k in np.log(eigs):\n",
    "        if np.imag(k) == 0.:\n",
    "            if np.real(k) > 0.:\n",
    "                counts['real+'] += 1\n",
    "            elif np.real(k) < 0.:\n",
    "                counts['real-'] += 1\n",
    "        else:\n",
    "            if np.imag(k) > 0.:\n",
    "                counts['imag+'] += 1\n",
    "            elif np.imag(k) < 0.:\n",
    "                counts['imag-'] += 1\n",
    "\n",
    "    print(E, counts)\n",
    "#     wfs = []\n",
    "#     for i in range(n_modes):\n",
    "#         wfs.append(vecs[:n_modes, i])\n",
    "#     a = []\n",
    "#     for wf1 in wfs:\n",
    "#         b = []\n",
    "#         for wf2 in wfs: \n",
    "#             b.append(np.vdot(wf1, wf2))\n",
    "#         a.append(b)\n",
    "\n",
    "    # print(np.real(np.array(a)))\n",
    "#     plt.imshow(np.real(np.array(a)))\n",
    "#     plt.colorbar()"
   ]
  },
  {
   "cell_type": "code",
   "execution_count": 138,
   "metadata": {},
   "outputs": [],
   "source": [
    "import kwant \n",
    "# For plotting\n",
    "from matplotlib import pyplot\n",
    "import numpy as np\n",
    "%matplotlib inline"
   ]
  },
  {
   "cell_type": "code",
   "execution_count": 142,
   "metadata": {},
   "outputs": [],
   "source": [
    "def make_system(a=1, t=1.0, W=5, L=5):\n",
    "    # Start with an empty tight-binding system and a single square lattice. \n",
    "    # `a` is the lattice constant (by default set to 1 for simplicity.\n",
    "    lat = kwant.lattice.square(a)\n",
    "\n",
    "    syst = kwant.Builder()\n",
    "\n",
    "    syst[(lat(x, y) for x in range(L) for y in range(W))] = 4 * t\n",
    "\n",
    "    syst[lat.neighbors()] = -t\n",
    "\n",
    "    lead = kwant.Builder(kwant.TranslationalSymmetry((-a, 0)))\n",
    "    lead[(lat(0, j) for j in range(W))] = 4 * t\n",
    "    lead[lat.neighbors()] = -t\n",
    "    syst.attach_lead(lead)\n",
    "    syst.attach_lead(lead.reversed())\n",
    "    return syst"
   ]
  },
  {
   "cell_type": "code",
   "execution_count": 153,
   "metadata": {},
   "outputs": [],
   "source": [
    "def plot_conductance(syst, energies): # Compute conductance\n",
    "    data = []\n",
    "    for energy in energies:\n",
    "        smatrix = kwant.smatrix(syst, energy)\n",
    "        data.append(smatrix.transmission(0, 1))\n",
    "    pyplot.figure()\n",
    "    pyplot.plot(energies, data)\n",
    "    pyplot.xlabel(\"energy [t]\")\n",
    "    pyplot.ylabel(\"conductance [$2e^2/h$]\")\n",
    "    pyplot.show()\n",
    "    return np.array(data)"
   ]
  },
  {
   "cell_type": "code",
   "execution_count": 154,
   "metadata": {},
   "outputs": [
    {
     "name": "stderr",
     "output_type": "stream",
     "text": [
      "/Users/b295319/anaconda3/lib/python3.6/site-packages/kwant/linalg/lll.py:103: FutureWarning: `rcond` parameter will change to the default of machine precision times ``max(M, N)`` where M and N are the input matrix dimensions.\n",
      "To use the future default and silence this warning we advise to pass `rcond=None`, to keep using the old, explicitly pass `rcond=-1`.\n",
      "  coefs = np.linalg.lstsq(vecs_orig.T, vecs.T)[0]\n",
      "/Users/b295319/anaconda3/lib/python3.6/site-packages/kwant/linalg/lll.py:144: FutureWarning: `rcond` parameter will change to the default of machine precision times ``max(M, N)`` where M and N are the input matrix dimensions.\n",
      "To use the future default and silence this warning we advise to pass `rcond=None`, to keep using the old, explicitly pass `rcond=-1`.\n",
      "  center_coords = np.array(np.round(np.linalg.lstsq(basis.T, vec)[0]), int)\n"
     ]
    },
    {
     "data": {
      "image/png": "[encoded data removed]",
      "text/plain": [
       "<matplotlib.figure.Figure at 0xa3630bcf8>"
      ]
     },
     "metadata": {},
     "output_type": "display_data"
    },
    {
     "data": {
      "image/png": "[encoded data removed]",
      "text/plain": [
       "<matplotlib.figure.Figure at 0xa39e3a710>"
      ]
     },
     "metadata": {},
     "output_type": "display_data"
    }
   ],
   "source": [
    "syst = make_system()\n",
    "# Check that the system looks as intended.\n",
    "kwant.plot(syst)\n",
    "# Finalize the system.\n",
    "syst = syst.finalized()\n",
    "# We should see conductance steps.\n",
    "e = np.linspace(-10,10,128)\n",
    "cond = plot_conductance(syst, energies=np.linspace(-10,10,128))"
   ]
  },
  {
   "cell_type": "code",
   "execution_count": null,
   "metadata": {},
   "outputs": [],
   "source": []
  },
  {
   "cell_type": "code",
   "execution_count": null,
   "metadata": {},
   "outputs": [],
   "source": []
  }
 ],
 "metadata": {
  "kernelspec": {
   "display_name": "Python 3",
   "language": "python",
   "name": "python3"
  },
  "language_info": {
   "codemirror_mode": {
    "name": "ipython",
    "version": 3
   },
   "file_extension": ".py",
   "mimetype": "text/x-python",
   "name": "python",
   "nbconvert_exporter": "python",
   "pygments_lexer": "ipython3",
   "version": "3.6.3"
  }
 },
 "nbformat": 4,
 "nbformat_minor": 2
}
